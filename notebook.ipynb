{
 "cells": [
  {
   "cell_type": "markdown",
   "metadata": {},
   "source": [
    "# Instructions\n",
    "\n",
    "The assignment consists of three tasks:\n",
    "\n",
    "- Run the T-test for the means of two independent samples underlying the statement \"IRE binding activity was significantly reduced in failing hearts\" (originally published by Haddad et al. in https://doi.org/10.1093/eurheartj/ehw333) using the following example data.\n",
    "\n",
    "| non-failing heart (NF) | failing heart (F) |\n",
    "| ---------------------- | ----------------- |\n",
    "| 95 | 50 |\n",
    "| 103 | 35 |\n",
    "| 99 | 21 | \n",
    "| &nbsp; | 15 | \n",
    "| &nbsp; | 7 | \n",
    "| &nbsp; | 40 |\n",
    "\n",
    "- Describe the statistical hypothesis test in machine readable form following the [statistical methods ontology concept for \"two sample t-test with unequal variance\"](https://www.ebi.ac.uk/ols/ontologies/stato/terms?iri=http%3A%2F%2Fpurl.obolibrary.org%2Fobo%2FSTATO_0000304) using Semantic Web technologies, namely the Resource Description Framework (RDF)\n",
    "- Process the resulting machine readable description using Semantic Web technologies, namely the SPARQL Protocol and RDF Query Language.\n",
    "\n",
    "Please return the assignment with all outputs visible (i.e., do not clear the outputs).\n",
    "\n",
    "Good luck!"
   ]
  },
  {
   "cell_type": "code",
   "execution_count": 28,
   "metadata": {},
   "outputs": [
    {
     "name": "stdout",
     "output_type": "stream",
     "text": [
      "Requirement already satisfied: rdflib in c:\\users\\user\\anaconda3\\lib\\site-packages (4.2.2)\n",
      "Requirement already satisfied: pandas in c:\\users\\user\\anaconda3\\lib\\site-packages (0.24.2)\n",
      "Requirement already satisfied: scipy in c:\\users\\user\\anaconda3\\lib\\site-packages (1.2.1)\n",
      "Requirement already satisfied: numpy in c:\\users\\user\\anaconda3\\lib\\site-packages (1.16.2)\n",
      "Requirement already satisfied: pyparsing in c:\\users\\user\\anaconda3\\lib\\site-packages (from rdflib) (2.3.1)\n",
      "Requirement already satisfied: isodate in c:\\users\\user\\anaconda3\\lib\\site-packages (from rdflib) (0.6.0)\n",
      "Requirement already satisfied: pytz>=2011k in c:\\users\\user\\anaconda3\\lib\\site-packages (from pandas) (2018.9)\n",
      "Requirement already satisfied: python-dateutil>=2.5.0 in c:\\users\\user\\anaconda3\\lib\\site-packages (from pandas) (2.8.0)\n",
      "Requirement already satisfied: six in c:\\users\\user\\anaconda3\\lib\\site-packages (from isodate->rdflib) (1.12.0)\n"
     ]
    }
   ],
   "source": [
    "!pip install rdflib pandas scipy numpy"
   ]
  },
  {
   "cell_type": "code",
   "execution_count": 29,
   "metadata": {},
   "outputs": [],
   "source": [
    "# Import all required libraries (some are missing)\n",
    "from rdflib import Graph, URIRef\n",
    "from rdflib.namespace import RDF"
   ]
  },
  {
   "cell_type": "code",
   "execution_count": 44,
   "metadata": {},
   "outputs": [
    {
     "name": "stdout",
     "output_type": "stream",
     "text": [
      "The p-value is 0.00018016897790311737\n"
     ]
    }
   ],
   "source": [
    "# Run the T-test for the means of two independent samples using the example data\n",
    "import pandas as pd\n",
    "import itertools\n",
    "from scipy.stats import ttest_ind, stats\n",
    "\n",
    "# labels = ...\n",
    "labels = [\"non-failing heart (NF)\", \"failing heart (F)\"]\n",
    "# data = ...\n",
    "NF= [95,103,99]\n",
    "F= [50,35,21,15,7,40]\n",
    "\n",
    "result= stats.ttest_ind(NF,F)\n",
    "\n",
    "# Print the p-value\n",
    "print(\"The p-value is\", result.pvalue)"
   ]
  },
  {
   "cell_type": "code",
   "execution_count": 45,
   "metadata": {},
   "outputs": [
    {
     "name": "stdout",
     "output_type": "stream",
     "text": [
      "b'<?xml version=\"1.0\" encoding=\"UTF-8\"?>\\n<rdf:RDF\\n   xmlns:obo=\"http://purl.obolibrary.org/obo/\"\\n   xmlns:rdf=\"http://www.w3.org/1999/02/22-rdf-syntax-ns#\"\\n>\\n  <rdf:Description rdf:about=\"http://purl.obolibrary.org/obo/OBI_0000175\">\\n    <obo:OBI_0001938 rdf:resource=\"http://example.org/i\"/>\\n    <rdf:type rdf:resource=\"http://purl.obolibrary.org/obo/OBI_0001931\"/>\\n  </rdf:Description>\\n  <rdf:Description rdf:about=\"http://example.org/i\">\\n    <rdf:datatype rdf:resource=\"http://www.w3.org/2001/XMLSchema#double\"/>\\n    <obo:OBI_0001937 rdf:datatype=\"http://www.w3.org/2001/XMLSchema#double\">0.00018001</obo:OBI_0001937>\\n  </rdf:Description>\\n  <rdf:Description rdf:nodeID=\"N6ce5a4fd88db4c5d852336093201efbb\">\\n    <obo:OBI_0000293 rdf:nodeID=\"Nb2f6041f9dfb4c10b214e8e916f9c417\"/>\\n    <obo:OBI_0000299 rdf:resource=\"http://purl.obolibrary.org/obo/OBI_0000175\"/>\\n    <rdf:type rdf:resource=\"http://purl.obolibrary.org/obo/STATO_0000304\"/>\\n  </rdf:Description>\\n  <rdf:Description rdf:nodeID=\"Nb2f6041f9dfb4c10b214e8e916f9c417\">\\n    <rdf:type rdf:resource=\"http://purl.obolibrary.org/obo/GO_0030350\"/>\\n  </rdf:Description>\\n</rdf:RDF>\\n'\n"
     ]
    }
   ],
   "source": [
    "# Describe the statistical hypothesis test in machine readable form\n",
    "from rdflib.graph import Graph\n",
    "from rdflib import BNode, URIRef , RDF , Literal\n",
    "from rdflib.namespace import XSD\n",
    "\n",
    "# First, we initialize an RDF Graph and bind some prefixes\n",
    "g = Graph()\n",
    "g.bind('obo', 'http://purl.obolibrary.org/obo/')\n",
    "g.bind('ex', 'http://example.org/')\n",
    "\n",
    "# Next, we define some needed vocabulary\n",
    "obo = dict()\n",
    "obo['two sample t-test with unequal variance'] = URIRef('http://purl.obolibrary.org/obo/STATO_0000304')\n",
    "obo['has specified input'] = URIRef('http://purl.obolibrary.org/obo/OBI_0000293')\n",
    "obo['has specified output'] = URIRef('http://purl.obolibrary.org/obo/OBI_0000299')\n",
    "obo['p-value'] = URIRef('http://purl.obolibrary.org/obo/OBI_0000175')\n",
    "obo['has value specification'] = URIRef('http://purl.obolibrary.org/obo/OBI_0001938')\n",
    "obo['scalar value specification'] = URIRef('http://purl.obolibrary.org/obo/OBI_0001931')\n",
    "obo['has specified numeric value'] = URIRef('http://purl.obolibrary.org/obo/OBI_0001937')\n",
    "obo['iron-responsive element binding'] = URIRef('http://purl.obolibrary.org/obo/GO_0030350')\n",
    "x = URIRef('http://example.org/i')\n",
    "\n",
    "# Now, populate the graph with statements\n",
    "############## print graph\n",
    "\n",
    "# As an example, the following statement types the resource (blank node) 'n1' as 'two sample t-test with unequal variance'\n",
    "n1 = BNode()\n",
    "g.add((n1, RDF.type, obo['two sample t-test with unequal variance']))\n",
    "\n",
    "# Now, state that the t-test has iron-responsive element binding as a specified input (one statement to complete)\n",
    "n2 = BNode()\n",
    "g.add((n1, obo['has specified input'], n2))\n",
    "g.add((n2,RDF.type, obo['iron-responsive element binding']))\n",
    "\n",
    "#Next, state that the t-test has the p-value computed above as a specified output (two statements to complete)\n",
    "g.add((n1, obo['has specified output'], obo['p-value']))\n",
    "g.add((obo['p-value'], RDF.type,obo['scalar value specification']))\n",
    "\n",
    "# The literal value of the p-value is represented as a scalar value specification with a specified numeric value (three statements to complete)\n",
    "g.add(( obo['p-value'], obo['has value specification'], x))\n",
    "g.add((x, RDF.datatype, XSD.double))\n",
    "\n",
    "# Type the literal as double\n",
    "g.add((x, obo['has specified numeric value'], Literal(0.00018001)))\n",
    "\n",
    "g.commit()\n",
    "# Finally, serialize and print the graph in RDF/XML format\n",
    "print (g.serialize(format='xml'))\n"
   ]
  },
  {
   "cell_type": "code",
   "execution_count": 46,
   "metadata": {},
   "outputs": [
    {
     "name": "stdout",
     "output_type": "stream",
     "text": [
      "The p-value is 0.00018001\n"
     ]
    }
   ],
   "source": [
    "# Process the machine readable statistical hypothesis test by completing the following SPARQL query that returns the p-value\n",
    "\n",
    "q = \"\"\"\n",
    "PREFIX obo: <http://purl.obolibrary.org/obo/>\n",
    "\n",
    "SELECT ?pvalue WHERE {\n",
    "  ?r a obo:STATO_0000304 .\n",
    "  ?r obo:OBI_0000293 [ a obo:GO_0030350 ].\n",
    "  ?r obo:OBI_0000299  obo:OBI_0000175.\n",
    "  obo:OBI_0000175 a obo:OBI_0001931.\n",
    "  obo:OBI_0000175 obo:OBI_0001938 ?s.\n",
    "  ?s obo:OBI_0001937 ?pvalue.}\n",
    "\"\"\"\n",
    "\n",
    "for qs in g.query(q):\n",
    "    print(\"The p-value is\", qs[0])"
   ]
  },
  {
   "cell_type": "code",
   "execution_count": null,
   "metadata": {},
   "outputs": [],
   "source": []
  },
  {
   "cell_type": "code",
   "execution_count": null,
   "metadata": {},
   "outputs": [],
   "source": []
  },
  {
   "cell_type": "code",
   "execution_count": null,
   "metadata": {},
   "outputs": [],
   "source": []
  },
  {
   "cell_type": "code",
   "execution_count": null,
   "metadata": {},
   "outputs": [],
   "source": []
  }
 ],
 "metadata": {
  "kernelspec": {
   "display_name": "Python 3",
   "language": "python",
   "name": "python3"
  },
  "language_info": {
   "codemirror_mode": {
    "name": "ipython",
    "version": 3
   },
   "file_extension": ".py",
   "mimetype": "text/x-python",
   "name": "python",
   "nbconvert_exporter": "python",
   "pygments_lexer": "ipython3",
   "version": "3.7.3"
  }
 },
 "nbformat": 4,
 "nbformat_minor": 2
}
